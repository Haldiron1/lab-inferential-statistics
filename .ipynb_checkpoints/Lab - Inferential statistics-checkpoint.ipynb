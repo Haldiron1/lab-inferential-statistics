{
 "cells": [
  {
   "cell_type": "code",
   "execution_count": 1,
   "id": "fe7cc14f",
   "metadata": {},
   "outputs": [],
   "source": [
    "import math"
   ]
  },
  {
   "cell_type": "markdown",
   "id": "f27c9c6e",
   "metadata": {},
   "source": [
    "Instructions\n",
    "It is assumed that the mean systolic blood pressure is μ = 120 mm Hg. In the Honolulu Heart Study, a sample of n = 100 people had an average systolic blood pressure of 130.1 mm Hg with a standard deviation of 21.21 mm Hg. Is the group significantly different (with respect to systolic blood pressure!) from the regular population?\n",
    "\n",
    "Set up the hypothesis test.\n",
    "Write down all the steps followed for setting up the test.\n",
    "Calculate the test statistic by hand and also code it in Python. It should be 4.76190. We will take a look at how to make decisions based on this calculated value.\n",
    "If you finished the previous question, please go through the code for principal_component_analysis_example provided in the files_for_lab folder ."
   ]
  },
  {
   "cell_type": "code",
   "execution_count": 2,
   "id": "12a12dac",
   "metadata": {},
   "outputs": [],
   "source": [
    "n= 100\n",
    "sample_mean= 130.1\n",
    "pop_mean = 120\n",
    "pop_std= 21.21"
   ]
  },
  {
   "cell_type": "code",
   "execution_count": 3,
   "id": "d9baea5e",
   "metadata": {},
   "outputs": [
    {
     "data": {
      "text/plain": [
       "4.761904761904759"
      ]
     },
     "execution_count": 3,
     "metadata": {},
     "output_type": "execute_result"
    }
   ],
   "source": [
    "statistic = (sample_mean - pop_mean)/(pop_std/math.sqrt(n))\n",
    "statistic"
   ]
  },
  {
   "cell_type": "raw",
   "id": "2b86c67d",
   "metadata": {},
   "source": [
    "----------------------------------"
   ]
  },
  {
   "cell_type": "markdown",
   "id": "c4b1d82f",
   "metadata": {},
   "source": [
    "Define the Null Hypothesis: \n",
    "* This is our assumption about the population defined by HO. In this case, HO = 120 mm Hg.\n",
    "\n",
    "Define the alternative hypothesis:\n",
    "* This means, what if our assumption is not true. It is defined by Ha and in this case Ha: =! 120 MM Hg.\n",
    "\n",
    "Determine if it is a one-tailed or a two-tailed test. \n",
    "* Two-tailed is when the mean tested (alternative hypothesis) can be > or < then the mean of the population. In this case we are checking if the mean of the systolic blood pressure is bigger than 120 mm Hg or lower than 120 mm Hg, in this case, is two-tailed.\n",
    "\n",
    "Taking in account that our sample is off 100, our **df (degrees of freedom)** should be n-1, in this case, 100-1= **99**.\n",
    "\n",
    "We should now look up the value that corresponds to the degrees of freedom (99) and the significance level divided by 2 (for a two-tailed test, since we are interested in both tails), so we can say that **α/2= 0.025** ."
   ]
  },
  {
   "cell_type": "code",
   "execution_count": 5,
   "id": "329f95fc",
   "metadata": {},
   "outputs": [
    {
     "name": "stdout",
     "output_type": "stream",
     "text": [
      "Critical t-value: 1.9842169515086827\n"
     ]
    }
   ],
   "source": [
    "from scipy.stats import t\n",
    "\n",
    "degrees_of_freedom = 99\n",
    "significance_level = 0.025  \n",
    "\n",
    "critical_t_value = t.ppf(1 - significance_level, degrees_of_freedom)\n",
    "print(\"Critical t-value:\", critical_t_value)"
   ]
  },
  {
   "cell_type": "markdown",
   "id": "1a134e5e",
   "metadata": {},
   "source": [
    "Since \n",
    "\n",
    "4.76190 is greater than 1.9842169515086827, this indicates that my calculated test statistic falls into the critical region. In terms of statistical significance, we would conclude that there is enough evidence to suggest that the group's average systolic blood pressure is significantly different from the assumed population mean of 120 mm Hg at the 0.05 significance level."
   ]
  },
  {
   "cell_type": "code",
   "execution_count": null,
   "id": "eedd78d5",
   "metadata": {},
   "outputs": [],
   "source": []
  }
 ],
 "metadata": {
  "kernelspec": {
   "display_name": "Python 3 (ipykernel)",
   "language": "python",
   "name": "python3"
  },
  "language_info": {
   "codemirror_mode": {
    "name": "ipython",
    "version": 3
   },
   "file_extension": ".py",
   "mimetype": "text/x-python",
   "name": "python",
   "nbconvert_exporter": "python",
   "pygments_lexer": "ipython3",
   "version": "3.9.13"
  }
 },
 "nbformat": 4,
 "nbformat_minor": 5
}
